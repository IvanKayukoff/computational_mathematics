{
 "cells": [
  {
   "cell_type": "markdown",
   "metadata": {},
   "source": [
    "# Newton's method"
   ]
  },
  {
   "cell_type": "code",
   "execution_count": 23,
   "metadata": {},
   "outputs": [],
   "source": [
    "def calc_f(x):\n",
    "    return 1.0 * x**3 - 1.89 * x**2 - 2.0 * x + 1.76\n",
    "\n",
    "def calc_deriv_1(x):\n",
    "    return 3.0 * x**2 - 3.78 * x - 2.0\n",
    "\n",
    "def calc_deriv_2(x):\n",
    "    return 6.0 * x - 3.78\n",
    "\n",
    "def clarify(x0, eps):\n",
    "    global iteration_counter\n",
    "    if (abs(calc_deriv_1(x0)) < eps): # FIXME\n",
    "        return None\n",
    "    x1 = x0 - (calc_f(x0) / calc_deriv_1(x0))\n",
    "    while (abs(calc_f(x0)) > eps):\n",
    "        iteration_counter += 1\n",
    "        x1 = x0 - (calc_f(x0) / calc_deriv_1(x0))\n",
    "        x0 = x1\n",
    "    return x1\n",
    "    \n",
    "def find_root(a, eps):\n",
    "    global iteration_counter\n",
    "    \n",
    "    irr_dest = True \n",
    "    while (irr_dest == True):\n",
    "        print(\"Select response output method: 1 - within the console\")\n",
    "        print(\"                               2 - within the file :  \", end='')\n",
    "        destination = input()\n",
    "        if (destination == '1' or destination == '2'):\n",
    "            irr_dest = False\n",
    "        else:\n",
    "            print(\"Wrong destination\")\n",
    "    \n",
    "    if (destination == '1'):\n",
    "        x = clarify(a, eps)\n",
    "        if (x is None):\n",
    "            print(\"Function\\'s extreme has been hitted\")\n",
    "            return None\n",
    "        else:\n",
    "            print(\"Initial approximation:\", a)\n",
    "            print(\"Allowable error:\", eps)\n",
    "            print(\"x:\", x)\n",
    "            print(\"F(x):\", calc_f(x))\n",
    "            print(\"Iteration count:\", iteration_counter)\n",
    "        return x\n",
    "    \n",
    "    if (destination == '2'):\n",
    "        x = clarify(a, eps)\n",
    "        if (x is not None):\n",
    "            response = f\"Initial approximation: {a}\\n\"\n",
    "            response += f\"Allowable error: {eps}\\n\"\n",
    "            response += f\"x: {x}\\n\"\n",
    "            response += f\"F(x): {calc_f(x)}\\n\"\n",
    "            response += f\"Iteration count: {iteration_counter}\"\n",
    "        else:\n",
    "            response = \"Function\\'s extreme has been hitted\"\n",
    "        with open(\"newton-response\", \"w\") as f:\n",
    "            f.write(response)\n",
    "        return x"
   ]
  },
  {
   "cell_type": "markdown",
   "metadata": {},
   "source": [
    "## Input from keyboard"
   ]
  },
  {
   "cell_type": "code",
   "execution_count": 26,
   "metadata": {},
   "outputs": [
    {
     "name": "stdout",
     "output_type": "stream",
     "text": [
      "Enter initial approximation: 1\n",
      "Enter allowable error value: 0.001\n",
      "Select response output method: 1 - within the console\n",
      "                               2 - within the file :  1\n",
      "Initial approximation: 1.0\n",
      "Allowable error: 0.001\n",
      "x: 0.6300009580773981\n",
      "F(x): -9.705693755401867e-05\n",
      "Iteration count: 2\n"
     ]
    }
   ],
   "source": [
    "end_input = False\n",
    "while (end_input == False):\n",
    "    try:\n",
    "        print(\"Enter initial approximation: \", end='')\n",
    "        a = float(input())\n",
    "        print(\"Enter allowable error value: \", end='')\n",
    "        eps = float(input())\n",
    "        if (eps <= 0):\n",
    "            print(\"The allowable error value must be greater than 0\")\n",
    "            raise Exception(\"\")\n",
    "        end_input = True\n",
    "        iteration_counter = 0\n",
    "        if (find_root(a, eps) is None):\n",
    "            raise Exception(\"\")\n",
    "    except Exception:\n",
    "        print(\"Verify that the input is correct\")"
   ]
  },
  {
   "cell_type": "markdown",
   "metadata": {},
   "source": [
    "## Input from file\n",
    "\n",
    "Enter your data into the `newton-input` file.\n",
    "\n",
    "Supported data format:\n",
    "```\n",
    "    The initial approximation into the first line\n",
    "    The allowable error value into the second line\n",
    "    (Note: lines after the second line - do not matter)\n",
    "```"
   ]
  },
  {
   "cell_type": "code",
   "execution_count": 20,
   "metadata": {},
   "outputs": [
    {
     "name": "stdout",
     "output_type": "stream",
     "text": [
      "Select response output method: 1 - within the console\n",
      "                               2 - within the file :  1\n",
      "Initial approximation: 0.0\n",
      "Allowable error: 0.001\n",
      "x: 0.629971249049731\n",
      "F(x): -2.2643430004354315e-06\n",
      "Iteration count: 3\n"
     ]
    }
   ],
   "source": [
    "import sys\n",
    "\n",
    "try:\n",
    "    f = open('newton-input', 'r')\n",
    "    data = f.readlines()\n",
    "except Exception:\n",
    "    print(\"File \\'newton-input\\' not found\")\n",
    "    sys.exit(0)\n",
    "    \n",
    "data = [x.strip() for x in data]\n",
    "\n",
    "try:\n",
    "    a = float(data[0])\n",
    "    eps = float(data[1])\n",
    "    iteration_counter = 0\n",
    "    if (find_root(a, eps) is None):\n",
    "        raise Exception(\"\")\n",
    "except Exception:\n",
    "    print(\"Verify that the data in the \\'newton-input\\' is correct\")"
   ]
  },
  {
   "cell_type": "markdown",
   "metadata": {},
   "source": [
    "## The function graph"
   ]
  },
  {
   "cell_type": "code",
   "execution_count": 17,
   "metadata": {},
   "outputs": [
    {
     "data": {
      "image/png": "[encoded data removed]",
      "text/plain": [
       "<Figure size 864x432 with 1 Axes>"
      ]
     },
     "metadata": {},
     "output_type": "display_data"
    }
   ],
   "source": [
    "%matplotlib inline\n",
    "\n",
    "import numpy\n",
    "import matplotlib.pyplot as plot\n",
    "\n",
    "x = numpy.array(numpy.arange(-1.5, 3, step=0.1))\n",
    "y =  calc_f(x)\n",
    "plot.figure(figsize=(12,6))\n",
    "plot.plot(x, y)\n",
    "plot.grid()\n",
    "plot.show()"
   ]
  }
 ],
 "metadata": {
  "kernelspec": {
   "display_name": "Python 3",
   "language": "python",
   "name": "python3"
  },
  "language_info": {
   "codemirror_mode": {
    "name": "ipython",
    "version": 3
   },
   "file_extension": ".py",
   "mimetype": "text/x-python",
   "name": "python",
   "nbconvert_exporter": "python",
   "pygments_lexer": "ipython3",
   "version": "3.6.6"
  }
 },
 "nbformat": 4,
 "nbformat_minor": 2
}
