{
 "cells": [
  {
   "cell_type": "markdown",
   "metadata": {},
   "source": [
    "# Interpolation\n",
    "\n",
    "## Common functions"
   ]
  },
  {
   "cell_type": "code",
   "execution_count": 2,
   "metadata": {},
   "outputs": [],
   "source": [
    "import sys\n",
    "\n",
    "# x_arr must be monotonically increasing array\n",
    "def find_index(x_arr, x):\n",
    "    if (x < x_arr[0] or x > x_arr[-1]):\n",
    "        print(\"x is not inside x_arr, so exit..\")\n",
    "        sys.exit(0)\n",
    "    for j in range(len(x_arr)):\n",
    "        if (x_arr[j] >= x):\n",
    "            i = j\n",
    "            break\n",
    "    return i"
   ]
  },
  {
   "cell_type": "markdown",
   "metadata": {},
   "source": [
    "## Linear interpolation"
   ]
  },
  {
   "cell_type": "code",
   "execution_count": 3,
   "metadata": {},
   "outputs": [],
   "source": [
    "def linear_interpolation(x_arr, y_arr, x):\n",
    "    i = find_index(x_arr, x)\n",
    "    a = (y_arr[i] - y_arr[i - 1]) / (x_arr[i] - x_arr[i - 1])\n",
    "    b = y_arr[i - 1] - a * x_arr[i - 1]\n",
    "    return a * x + b"
   ]
  },
  {
   "cell_type": "markdown",
   "metadata": {},
   "source": [
    "## Square interpolation"
   ]
  },
  {
   "cell_type": "code",
   "execution_count": 4,
   "metadata": {},
   "outputs": [],
   "source": [
    "import numpy as np\n",
    "\n",
    "def square_interpolation(x_arr, y_arr, x):\n",
    "    i = find_index(x_arr, x)\n",
    "    x1, x2, x3 = x_arr[(slice(i - 1, i + 2) if i < len(x_arr) - 1 else slice(i - 3, i))]\n",
    "    y1, y2, y3 = y_arr[(slice(i - 1, i + 2) if i < len(y_arr) - 1 else slice(i - 3, i))]\n",
    "    a, b, c = np.linalg.solve(np.array([[x1**2, x1, 1], [x2**2, x2, 1], [x3**2, x3, 1]]), \n",
    "                              np.array([y1, y2, y3]))\n",
    "    return a * x**2 + b * x + c"
   ]
  },
  {
   "cell_type": "markdown",
   "metadata": {},
   "source": [
    "## Lagrange polynomial"
   ]
  },
  {
   "cell_type": "code",
   "execution_count": 5,
   "metadata": {},
   "outputs": [],
   "source": [
    "def lagrange_interpolation(x_arr, y_arr, x):\n",
    "    L = 0.0\n",
    "    for i in range (0, len(x_arr)):\n",
    "        l = 1.0\n",
    "        for j in range (0, len(x_arr)):\n",
    "            if i != j:\n",
    "                l *= (x - x_arr[j]) / (x_arr[i] - x_arr[j])\n",
    "        L += l * y_arr[i]\n",
    "    return L"
   ]
  },
  {
   "cell_type": "markdown",
   "metadata": {},
   "source": [
    "## For equidistant nodes\n",
    "\n",
    "### Newton forward interpolation"
   ]
  },
  {
   "cell_type": "code",
   "execution_count": 6,
   "metadata": {},
   "outputs": [],
   "source": [
    "import math\n",
    "\n",
    "# Calculates n-th order finite difference\n",
    "def calc_diff(y_arr, n, i):\n",
    "    if n != 0:\n",
    "        return calc_diff(y_arr, n - 1, i + 1) - calc_diff(y_arr, n - 1, i)\n",
    "    else:\n",
    "        return y_arr[i + 1] - y_arr[i]\n",
    "\n",
    "def newton_forward_interpolation(x_arr, y_arr, x):\n",
    "    i = find_index(x_arr, x) - 1\n",
    "    n = len(x_arr) - 1\n",
    "    h = x_arr[1] - x_arr[0]\n",
    "    t = (x - x_arr[i]) / h\n",
    "    return y_arr[i] + sum(np.prod([t - j for j in range(k)]) / math.factorial(k) * calc_diff(y_arr, k - 1, i) \n",
    "                          for k in range(1, n - i + 1))"
   ]
  },
  {
   "cell_type": "markdown",
   "metadata": {},
   "source": [
    "### Newton backward interpolation"
   ]
  },
  {
   "cell_type": "code",
   "execution_count": 7,
   "metadata": {},
   "outputs": [],
   "source": [
    "def newton_backward_interpolation(x_arr, y_arr, x):\n",
    "    n = len(x_arr) - 1\n",
    "    h = x_arr[1] - x_arr[0]\n",
    "    t = (x - x_arr[n]) / h\n",
    "    return y_arr[n] + sum(np.prod([t + j for j in range(k)]) / math.factorial(k) * calc_diff(y_arr, k - 1, n - k) \n",
    "                          for k in range(1, n + 1))"
   ]
  },
  {
   "cell_type": "markdown",
   "metadata": {},
   "source": [
    "## For non-equidistant nodes"
   ]
  },
  {
   "cell_type": "code",
   "execution_count": 8,
   "metadata": {},
   "outputs": [],
   "source": [
    "def calc_div_diff_1(x_arr, y_arr, i0, i1):\n",
    "    return (y_arr[i1] - y_arr[i0]) / (x_arr[i1] - x_arr[i0])\n",
    "\n",
    "def calc_div_diff_2(x_arr, y_arr, i0, i1, i2):\n",
    "    return (calc_div_diff_1(x_arr, y_arr, i1, i2) - calc_div_diff_1(x_arr, y_arr, i0, i1)) / \\\n",
    "        (x_arr[i2] - x_arr[i0])\n",
    "\n",
    "def newton_diff_interpolation(x_arr, y_arr, x):\n",
    "    if len(x_arr) < 4:\n",
    "        return None\n",
    "    i0 = 0\n",
    "    for i in range(0, len(x_arr)):\n",
    "        if i == len(x_arr) - 4 or len(x_arr) - 4 <= 0:\n",
    "            i0 = len(x_arr) - 4\n",
    "            break\n",
    "        if i == 0 and x <= x_arr[0]:\n",
    "            break\n",
    "        if i != 0 and x <= x_arr[i] and x > x_arr[i + 1]:\n",
    "            i0 = i\n",
    "            break\n",
    "    i1 = i0 + 1; i2 = i1 + 1\n",
    "    fir = y_arr[i0] + (x - x_arr[i0]) * calc_div_diff_1(x_arr, y_arr, i0, i1) + \\\n",
    "        (x - x_arr[i0]) * (x - x_arr[i1]) * calc_div_diff_2(x_arr, y_arr, i0, i1, i2)\n",
    "    i0 += 1; i1 += 1; i2 += 1\n",
    "    sec = y_arr[i0] + (x - x_arr[i0]) * calc_div_diff_1(x_arr, y_arr, i0, i1) + \\\n",
    "        (x - x_arr[i0]) * (x - x_arr[i1]) * calc_div_diff_2(x_arr, y_arr, i0, i1, i2)\n",
    "    return (fir + sec) / 2"
   ]
  },
  {
   "cell_type": "markdown",
   "metadata": {},
   "source": [
    "## Userspace"
   ]
  },
  {
   "cell_type": "code",
   "execution_count": 9,
   "metadata": {},
   "outputs": [
    {
     "name": "stdout",
     "output_type": "stream",
     "text": [
      "Xs for Lagrange: [0.698, 0.706, 0.714, 0.727, 0.736, 0.747, 0.76]\n",
      "Ys for Lagrange: [2.2234, 2.2438, 2.2644, 2.2984, 2.3222, 2.3516, 2.3867]\n",
      "\n",
      "Xs for Newton  : [1.1, 1.25, 1.4, 1.55, 1.7, 1.85, 2.0]\n",
      "Ys for Newton  : [0.2234, 1.2438, 2.2644, 3.2984, 4.3222, 5.3516, 6.3867]\n",
      "\n",
      "Enter value for linear, square and Lagrange interpolations: 0.720\n",
      "Enter value for equidistant nodes Newton interpolation: 1.153\n",
      "Enter value for non-equidistant nodes Newton interpolation: 0.750\n",
      "\n",
      "Linear interpolation for x = 0.72 - y = 2.2801\n",
      "Square interpolation for x = 0.72 - y = 2.28\n",
      "Lagrange interpolation for x = 0.72 - y = 2.280025\n",
      "Equidistant nodes Newton forward interpolation for x = 1.153 - y = 0.591656\n",
      "Equidistant nodes Newton backward interpolation for x = 1.153 - y = 0.591656\n",
      "Non-equidistant nodes Newton interpolation for x = 0.75 - y = 2.3597\n"
     ]
    }
   ],
   "source": [
    "# You can customise file names right in code below\n",
    "try:\n",
    "    f = open(\"lagrange_input\", \"r\")\n",
    "    x_arr_lagr = [float(x) for x in f.readline().split()]\n",
    "    y_arr_lagr = [float(y) for y in f.readline().split()]\n",
    "except:\n",
    "    print(\"File not found or have unsupported format..\")\n",
    "    sys.exit(0)\n",
    "    \n",
    "try:\n",
    "    f = open(\"newton_input\", \"r\")\n",
    "    x_arr_newt = [float(x) for x in f.readline().split()]\n",
    "    y_arr_newt = [float(y) for y in f.readline().split()]\n",
    "except:\n",
    "    print(\"File not found or have unsupported format..\")\n",
    "    sys.exit(0)\n",
    "\n",
    "# debug mode on\n",
    "print(\"Xs for Lagrange:\", x_arr_lagr)\n",
    "print(\"Ys for Lagrange:\", y_arr_lagr, end=\"\\n\\n\")\n",
    "print(\"Xs for Newton  :\", x_arr_newt)\n",
    "print(\"Ys for Newton  :\", y_arr_newt, end=\"\\n\\n\")\n",
    "\n",
    "def take_and_validate(array):\n",
    "    while(True):\n",
    "        try:\n",
    "            value = float(input())\n",
    "            if value < array[0] or value > array[-1]:\n",
    "                print(\"Entered value is not inside array, try again: \")\n",
    "            else:\n",
    "                return value\n",
    "        except:\n",
    "            print(\"Entered value is not float, try again: \")\n",
    "            \n",
    "\n",
    "print(\"Enter value for linear, square and Lagrange interpolations: \", end=\"\")\n",
    "x_lsl = take_and_validate(x_arr_lagr)\n",
    "\n",
    "print(\"Enter value for equidistant nodes Newton interpolation: \", end=\"\")\n",
    "x_newt = take_and_validate(x_arr_newt)\n",
    "\n",
    "print(\"Enter value for non-equidistant nodes Newton interpolation: \", end=\"\")\n",
    "x_newt_non_eq = take_and_validate(x_arr_lagr)\n",
    "print()\n",
    "\n",
    "y_lin = linear_interpolation(x_arr_lagr, y_arr_lagr, x_lsl)\n",
    "print(f\"Linear interpolation for x = {x_lsl} - y = {round(y_lin, 4)}\")\n",
    "\n",
    "y_sqr = square_interpolation(x_arr_lagr, y_arr_lagr, x_lsl)\n",
    "print(f\"Square interpolation for x = {x_lsl} - y = {round(y_sqr, 4)}\")\n",
    "\n",
    "y_lagr = lagrange_interpolation(x_arr_lagr, y_arr_lagr, x_lsl)\n",
    "print(f\"Lagrange interpolation for x = {x_lsl} - y = {round(y_lagr, 6)}\")\n",
    "\n",
    "y_newt_forw = newton_forward_interpolation(x_arr_newt, y_arr_newt, x_newt)\n",
    "print(f\"Equidistant nodes Newton forward interpolation for x = {x_newt} - y = {round(y_newt_forw, 6)}\")\n",
    "\n",
    "y_newt_back = newton_backward_interpolation(x_arr_newt, y_arr_newt, x_newt)\n",
    "print(f\"Equidistant nodes Newton backward interpolation for x = {x_newt} - y = {round(y_newt_back, 6)}\")\n",
    "\n",
    "y_newt_non_eq = newton_diff_interpolation(x_arr_lagr, y_arr_lagr, x_newt_non_eq)\n",
    "print(f\"Non-equidistant nodes Newton interpolation for x = {x_newt_non_eq} - y = {round(y_newt_non_eq, 4)}\")\n",
    "\n",
    "# x1 = 0.720 # for linear, square and Lagrange\n",
    "# x2 = 1.153 # for equidistant nodes Newton\n",
    "# x3 = 1.852 # for equidistant nodes Newton\n",
    "# x4 = 0.750 # for non-equidistant nodes Newtonе"
   ]
  }
 ],
 "metadata": {
  "kernelspec": {
   "display_name": "Python 3",
   "language": "python",
   "name": "python3"
  },
  "language_info": {
   "codemirror_mode": {
    "name": "ipython",
    "version": 3
   },
   "file_extension": ".py",
   "mimetype": "text/x-python",
   "name": "python",
   "nbconvert_exporter": "python",
   "pygments_lexer": "ipython3",
   "version": "3.7.1"
  }
 },
 "nbformat": 4,
 "nbformat_minor": 2
}
