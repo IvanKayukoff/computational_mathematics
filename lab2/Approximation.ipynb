{
 "cells": [
  {
   "cell_type": "code",
   "execution_count": null,
   "metadata": {},
   "outputs": [],
   "source": []
  },
  {
   "cell_type": "code",
   "execution_count": 11,
   "metadata": {},
   "outputs": [
    {
     "name": "stdout",
     "output_type": "stream",
     "text": [
      "5.371272727272731\n",
      "-4.100181818181819\n",
      "None\n"
     ]
    }
   ],
   "source": [
    "import math\n",
    "import numpy as np\n",
    "import sys\n",
    "\n",
    "\n",
    "class Approximation:\n",
    "    def __init__(self, x_vals, y_vals, name, fill_fields):\n",
    "        self.x_vals = x_vals\n",
    "        self.y_vals = y_vals\n",
    "        self.a, self.b, self.c = fill_fields(x_vals, y_vals)\n",
    "        self.name = name\n",
    "\n",
    "        \n",
    "# Load points from file\n",
    "with open(\"points\") as f:\n",
    "    try:\n",
    "        x_arr = [float(x) for x in f.readline().split()]\n",
    "        y_arr = [float(y) for y in f.readline().split()]\n",
    "        if len(x_arr) != len(y_arr):\n",
    "            raise Exception(\"Строки должны содержать одинаковое количество чисел\")\n",
    "    except ValueError as e:\n",
    "        print(\"Ошибка во входных данных, ожидаются 2 строки с числами, которые разделены пробелами\")\n",
    "        print(repr(e))\n",
    "        sys.exit(1)\n",
    "    except Exception as e:\n",
    "        print(repr(e))\n",
    "        sys.exit(1)\n",
    "\n",
    "        \n",
    "def linear_approx(x_arr, y_arr):\n",
    "    sx  = 0\n",
    "    sxx = 0\n",
    "    sy  = 0\n",
    "    sxy = 0\n",
    "    for i in range(0, len(x_arr)):\n",
    "        sx  += x_arr[i]\n",
    "        sxx += x_arr[i] * x_arr[i]\n",
    "        sy  += y_arr[i]\n",
    "        sxy += x_arr[i] * y_arr[i]\n",
    "    a = (sxy * len(x_arr) - sx * sy) / (sxx * len(x_arr) - sx * sx)\n",
    "    b = (sxx * sy - sx * sxy)        / (sxx * len(x_arr) - sx * sx)\n",
    "    return [a, b, None]\n",
    "\n",
    "        \n",
    "def linear(a, b, c, x):\n",
    "    return a * x + b\n",
    "\n",
    "# appr = Approximation(x_arr, y_arr, \"Linear approximation\", linear_approx)\n",
    "# print(appr.a)\n",
    "# print(appr.b)\n",
    "# print(appr.c)"
   ]
  }
 ],
 "metadata": {
  "kernelspec": {
   "display_name": "Python 3",
   "language": "python",
   "name": "python3"
  },
  "language_info": {
   "codemirror_mode": {
    "name": "ipython",
    "version": 3
   },
   "file_extension": ".py",
   "mimetype": "text/x-python",
   "name": "python",
   "nbconvert_exporter": "python",
   "pygments_lexer": "ipython3",
   "version": "3.7.0"
  }
 },
 "nbformat": 4,
 "nbformat_minor": 2
}
