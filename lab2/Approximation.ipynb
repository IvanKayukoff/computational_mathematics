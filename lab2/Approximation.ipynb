{
 "cells": [
  {
   "cell_type": "markdown",
   "metadata": {},
   "source": [
    "# Approximation lab\n",
    "\n",
    "### Essential imports"
   ]
  },
  {
   "cell_type": "code",
   "execution_count": 16,
   "metadata": {},
   "outputs": [],
   "source": [
    "import math\n",
    "import numpy as np\n",
    "import sys\n",
    "import matplotlib.pyplot as plt\n",
    "from prettytable import PrettyTable"
   ]
  },
  {
   "cell_type": "markdown",
   "metadata": {},
   "source": [
    "### Helper functions"
   ]
  },
  {
   "cell_type": "code",
   "execution_count": 22,
   "metadata": {},
   "outputs": [],
   "source": [
    "def calc_sx(xs):\n",
    "    res = 0\n",
    "    for x in xs:\n",
    "        res += x\n",
    "    return res\n",
    "\n",
    "def calc_sxx(xs):\n",
    "    res = 0\n",
    "    for x in xs:\n",
    "        res += x**2\n",
    "    return res\n",
    "\n",
    "def calc_sxy(xs, ys):\n",
    "    res = 0\n",
    "    for i in range(len(xs)):\n",
    "        res += xs[i] * ys[i]\n",
    "    return res\n",
    "\n",
    "def calc_sxxy(xs, ys):\n",
    "    res = 0\n",
    "    for i in range(len(xs)):\n",
    "        res += xs[i]**2 * ys[i]\n",
    "    return res\n",
    "\n",
    "def ln(x, a, b, c):\n",
    "    return a * math.log(x, math.exp(1)) + b\n",
    "        \n",
    "def linear_approx(x_arr, y_arr):\n",
    "    sx  = calc_sx(x_arr)\n",
    "    sxx = calc_sxx(x_arr)\n",
    "    sy  = calc_sx(y_arr)\n",
    "    sxy = calc_sxy(x_arr, y_arr)\n",
    "    a = (sxy * len(x_arr) - sx * sy) / (sxx * len(x_arr) - sx * sx)\n",
    "    b = (sxx * sy - sx * sxy)        / (sxx * len(x_arr) - sx * sx)\n",
    "    return [a, b, None]\n",
    "\n",
    "def linear(x, a, b, c):\n",
    "    return a * x + b\n",
    "\n",
    "def polynomial_second_degree(x, a, b, c):\n",
    "    return a * x**2 + b * x + c\n",
    "\n",
    "def square_approximation(xs, ys):\n",
    "    left = np.array([\n",
    "                     [len(xs), calc_sx(xs), calc_sxx(xs)],\n",
    "                     [calc_sx(xs), calc_sxx(xs), pow_n(xs, 3)],\n",
    "                     [calc_sxx(xs), pow_n(xs, 3), pow_n(xs, 4)]\n",
    "                    ])\n",
    "    right = np.array([calc_sx(ys), calc_sxy(xs, ys), calc_sxxy(xs, ys)])\n",
    "    c, b, a = np.linalg.solve(left, right)\n",
    "    return [a, b, c]\n",
    "\n",
    "def exponent(x, a, b, c):\n",
    "    return a * math.exp(b * x)\n",
    "    \n",
    "def exponent_approximation(xs, ys):\n",
    "    new_y = np.array([])\n",
    "    for i in ys:\n",
    "        new_y = np.append(new_y, [math.log(i, math.exp(1))])\n",
    "    a, b, c = linear_approx(xs, new_y)\n",
    "    a = math.exp(a)\n",
    "    return [a, b, None]\n",
    "\n",
    "def pow_n(xs, n):\n",
    "    res = 0\n",
    "    for x in xs:\n",
    "        res += x**n\n",
    "    return res\n",
    "\n",
    "def power(x, a, b, c):\n",
    "    return a * pow(x, b)\n",
    "\n",
    "def power_approximation(xs, ys):\n",
    "    new_y = np.array([])\n",
    "    for i in ys:\n",
    "        new_y = np.append(new_y, [math.log(i, math.exp(1))])\n",
    "    new_x = np.array([])\n",
    "    for i in xs:\n",
    "        new_x = np.append(new_x, [math.log(i, math.exp(1))])\n",
    "    a, b, c = linear_approx(new_x, new_y)\n",
    "    a = math.exp(a)\n",
    "    return [a, b, None]\n",
    "\n",
    "def logarithmic_approximation(xs, ys):\n",
    "    new_x = np.array([])\n",
    "    for i in xs:\n",
    "        new_x = np.append(new_x, [math.log(i, math.exp(1))])\n",
    "    return linear_approx(new_x, ys)"
   ]
  },
  {
   "cell_type": "markdown",
   "metadata": {},
   "source": [
    "### Data structure"
   ]
  },
  {
   "cell_type": "code",
   "execution_count": 27,
   "metadata": {},
   "outputs": [],
   "source": [
    "class Approximation:\n",
    "    \n",
    "    def calc_r(self):\n",
    "        x_avg = np.mean(self.x_vals)\n",
    "        y_avg = np.mean(self.y_vals)\n",
    "        x_diff  = 0\n",
    "        y_diff  = 0\n",
    "        xy_diff = 0\n",
    "        for i in range(0, len(self.x_vals)):\n",
    "            x_diff  += (self.x_vals[i] - x_avg) * (self.x_vals[i] - x_avg)\n",
    "            y_diff  += (self.y_vals[i] - y_avg) * (self.y_vals[i] - y_avg)\n",
    "            xy_diff += (self.x_vals[i] - x_avg) * (self.y_vals[i] - y_avg)\n",
    "        return xy_diff / math.sqrt(x_diff * y_diff)\n",
    "    \n",
    "    def __init__(self, x_vals, y_vals, name, fill_fields, calc_f):\n",
    "        self.x_vals = x_vals\n",
    "        self.y_vals = y_vals\n",
    "        self.a, self.b, self.c = fill_fields(x_vals, y_vals)\n",
    "        self.name = name\n",
    "        self.f_vars = []\n",
    "        self.e_vars = []\n",
    "        self.p_vars = []\n",
    "        self.S = 0\n",
    "        self.calc_f = calc_f\n",
    "        for i in range(0, len(x_vals)):\n",
    "            self.f_vars.append(calc_f(self.x_vals[i], self.a, self.b, self.c))\n",
    "            self.e_vars.append(self.f_vars[i] - self.y_vals[i])\n",
    "            self.p_vars.append(self.e_vars[i] / self.y_vals[i])\n",
    "            self.S += self.e_vars[i] * self.e_vars[i]\n",
    "            self.r = self.calc_r()\n",
    "        self.sqr_deviation = math.sqrt(calc_sxx(self.e_vars) / len(self.e_vars))"
   ]
  },
  {
   "cell_type": "markdown",
   "metadata": {},
   "source": [
    "### Main script"
   ]
  },
  {
   "cell_type": "code",
   "execution_count": 28,
   "metadata": {},
   "outputs": [
    {
     "name": "stdout",
     "output_type": "stream",
     "text": [
      "\n",
      "------------ Linear approximation ------------\n",
      "S = 89.83\n"
     ]
    },
    {
     "data": {
      "image/png": "[encoded data removed]",
      "text/plain": [
       "<Figure size 432x288 with 1 Axes>"
      ]
     },
     "metadata": {
      "needs_background": "light"
     },
     "output_type": "display_data"
    },
    {
     "name": "stdout",
     "output_type": "stream",
     "text": [
      "\n",
      "------------ Square approximation ------------\n",
      "S = 4.36\n"
     ]
    },
    {
     "data": {
      "image/png": "[encoded data removed]",
      "text/plain": [
       "<Figure size 432x288 with 1 Axes>"
      ]
     },
     "metadata": {
      "needs_background": "light"
     },
     "output_type": "display_data"
    },
    {
     "name": "stdout",
     "output_type": "stream",
     "text": [
      "\n",
      "------------ Exponential approximation ------------\n",
      "S = 2396.29\n"
     ]
    },
    {
     "data": {
      "image/png": "[encoded data removed]",
      "text/plain": [
       "<Figure size 432x288 with 1 Axes>"
      ]
     },
     "metadata": {
      "needs_background": "light"
     },
     "output_type": "display_data"
    },
    {
     "name": "stdout",
     "output_type": "stream",
     "text": [
      "\n",
      "------------ Logarithm approximation ------------\n",
      "S = 294.81\n"
     ]
    },
    {
     "data": {
      "image/png": "[encoded data removed]",
      "text/plain": [
       "<Figure size 432x288 with 1 Axes>"
      ]
     },
     "metadata": {
      "needs_background": "light"
     },
     "output_type": "display_data"
    },
    {
     "name": "stdout",
     "output_type": "stream",
     "text": [
      "\n",
      "------------ Power approximation ------------\n",
      "S = 87.25\n"
     ]
    },
    {
     "data": {
      "image/png": "[encoded data removed]",
      "text/plain": [
       "<Figure size 432x288 with 1 Axes>"
      ]
     },
     "metadata": {
      "needs_background": "light"
     },
     "output_type": "display_data"
    },
    {
     "name": "stdout",
     "output_type": "stream",
     "text": [
      "The best approximation is the Square approximation\n",
      "+-----+-------+--------+--------+----------+-----------+-------+\n",
      "|  X  |   Y   | Linear | Square | Exponent | Logarithm | Power |\n",
      "+-----+-------+--------+--------+----------+-----------+-------+\n",
      "| 0.5 |  2.46 | -1.41  |  3.32  |   2.32   |   -4.37   |  1.24 |\n",
      "| 1.0 |  3.29 |  1.27  |  3.16  |   3.26   |    2.77   |  2.91 |\n",
      "| 1.5 |  4.23 |  3.96  |  3.64  |   4.57   |    6.94   |  4.79 |\n",
      "| 2.0 |  5.43 |  6.64  |  4.75  |   6.41   |    9.9    |  6.82 |\n",
      "| 2.5 |  6.98 |  9.33  |  6.49  |   8.99   |    12.2   |  8.97 |\n",
      "| 3.0 |  8.96 | 12.01  |  8.86  |  12.61   |   14.08   | 11.23 |\n",
      "| 3.5 | 11.51 |  14.7  | 11.86  |  17.69   |   15.67   | 13.57 |\n",
      "| 4.0 | 14.78 | 17.38  | 15.49  |  24.81   |   17.04   | 15.99 |\n",
      "| 4.5 | 18.95 | 20.07  | 19.75  |  34.81   |   18.25   | 18.49 |\n",
      "| 5.0 | 24.31 | 22.76  | 24.65  |  48.82   |   19.34   | 21.04 |\n",
      "| 5.5 | 31.25 | 25.44  | 30.18  |  68.49   |   20.32   | 23.66 |\n",
      "|  -- |   S   | 89.83  |  4.36  | 2396.29  |   294.81  | 87.25 |\n",
      "|  -- |   δ   |  2.86  |  0.63  |  14.76   |    5.18   |  2.82 |\n",
      "|  -- |   a   |  5.37  |  1.26  |   1.66   |   10.29   |  2.91 |\n",
      "|  -- |   b   |  -4.1  |  -2.2  |   0.68   |    2.77   |  1.23 |\n",
      "|  -- |   c   |   --   |  4.11  |    --    |     --    |   --  |\n",
      "+-----+-------+--------+--------+----------+-----------+-------+\n"
     ]
    }
   ],
   "source": [
    "with open(\"points\") as f:\n",
    "    try:\n",
    "        x_arr = [float(x) for x in f.readline().split()]\n",
    "        y_arr = [float(y) for y in f.readline().split()]\n",
    "        if len(x_arr) != len(y_arr):\n",
    "            raise Exception(\"Строки должны содержать одинаковое количество чисел\")\n",
    "    except ValueError as e:\n",
    "        print(\"Ошибка во входных данных, ожидаются 2 строки с числами, которые разделены пробелами\")\n",
    "        print(repr(e))\n",
    "        sys.exit(1)\n",
    "    except Exception as e:\n",
    "        print(repr(e))\n",
    "        sys.exit(1)\n",
    "\n",
    "approx_linear = Approximation(x_arr, y_arr, \"Linear approximation\", linear_approx, linear)\n",
    "approx_square = Approximation(x_arr, y_arr, \"Square approximation\", square_approximation, \n",
    "                                 polynomial_second_degree)\n",
    "approx_exponent = Approximation(x_arr, y_arr, \"Exponential approximation\", exponent_approximation, exponent)\n",
    "approx_log = Approximation(x_arr, y_arr, \"Logarithm approximation\", logarithmic_approximation, ln)\n",
    "approx_power = Approximation(x_arr, y_arr, \"Power approximation\", power_approximation, power)\n",
    "\n",
    "approx_list = []\n",
    "approx_list.append(approx_linear)\n",
    "approx_list.append(approx_square)\n",
    "approx_list.append(approx_exponent)\n",
    "approx_list.append(approx_log)\n",
    "approx_list.append(approx_power)\n",
    "\n",
    "the_best_approx: Approximation = None\n",
    "for appr in approx_list:\n",
    "    if the_best_approx == None or the_best_approx.S > appr.S:\n",
    "        the_best_approx = appr\n",
    "\n",
    "plot_x = np.array(np.arange(x_arr[0], x_arr[len(x_arr) - 1] + 1, step = 0.01))\n",
    "\n",
    "def print_approx(approx: Approximation):\n",
    "    print(f\"\\n------------ {approx.name} ------------\")\n",
    "    print(f\"S = {round(approx.S, 2)}\")\n",
    "    plt.plot(approx.x_vals, approx.y_vals, 'ro', plot_x, [approx.calc_f(x, approx.a, approx.b, approx.c) for x in plot_x], 'g--')\n",
    "    plt.grid()\n",
    "    plt.show()\n",
    "\n",
    "for appr in approx_list:\n",
    "    print_approx(appr)\n",
    "\n",
    "print(f\"The best approximation is the {the_best_approx.name}\")\n",
    "\n",
    "table = PrettyTable()\n",
    "table.field_names = [\"X\", \"Y\", \"Linear\", \"Square\", \"Exponent\", \"Logarithm\", \"Power\"]\n",
    "for i in range(len(the_best_approx.x_vals)):\n",
    "    table.add_row([the_best_approx.x_vals[i], the_best_approx.y_vals[i], round(approx_linear.f_vars[i], 2), \n",
    "                   round(approx_square.f_vars[i], 2), round(approx_exponent.f_vars[i], 2), \n",
    "                   round(approx_log.f_vars[i], 2), round(approx_power.f_vars[i], 2)])\n",
    "table.add_row(['--', 'S'] + [round(appr.S, 2) for appr in approx_list])\n",
    "table.add_row(['--', 'δ'] + [round(appr.sqr_deviation, 2) for appr in approx_list])\n",
    "table.add_row(['--', 'a'] + [round(appr.a, 2) for appr in approx_list])\n",
    "table.add_row(['--', 'b'] + [round(appr.b, 2) for appr in approx_list])\n",
    "table.add_row(['--', 'c', '--', round(approx_square.c, 2), '--', '--', '--'])\n",
    "print(str(table))"
   ]
  }
 ],
 "metadata": {
  "kernelspec": {
   "display_name": "Python 3",
   "language": "python",
   "name": "python3"
  },
  "language_info": {
   "codemirror_mode": {
    "name": "ipython",
    "version": 3
   },
   "file_extension": ".py",
   "mimetype": "text/x-python",
   "name": "python",
   "nbconvert_exporter": "python",
   "pygments_lexer": "ipython3",
   "version": "3.6.7"
  }
 },
 "nbformat": 4,
 "nbformat_minor": 2
}
